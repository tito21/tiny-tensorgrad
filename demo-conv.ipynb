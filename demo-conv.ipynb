{
 "cells": [
  {
   "cell_type": "code",
   "execution_count": 1,
   "metadata": {},
   "outputs": [],
   "source": [
    "%load_ext autoreload\n",
    "%autoreload 2"
   ]
  },
  {
   "cell_type": "code",
   "execution_count": 2,
   "metadata": {},
   "outputs": [],
   "source": [
    "import torch\n",
    "import torch.nn.functional as F\n",
    "from torchvision.datasets import MNIST\n",
    "from torchvision.transforms.v2 import ToImage, ToDtype\n",
    "from torch.utils.data import DataLoader, Subset\n",
    "import numpy as np\n",
    "import matplotlib.pyplot as plt\n",
    "from tqdm.auto import tqdm\n",
    "\n",
    "from engine import Tensor, draw_dot\n",
    "import nn"
   ]
  },
  {
   "cell_type": "code",
   "execution_count": 9,
   "metadata": {},
   "outputs": [],
   "source": [
    "class ToNPTensor(torch.nn.Module):\n",
    "    def __init__(self, *args, **kwargs) -> None:\n",
    "        super().__init__(*args, **kwargs)\n",
    "\n",
    "    def forward(self, x):\n",
    "        return Tensor(x.numpy().reshape(-1, 1, 28, 28)*2.0 - 1.0)\n",
    "\n",
    "class ToOneHot(torch.nn.Module):\n",
    "    def __init__(self, *args, **kwargs) -> None:\n",
    "        super().__init__(*args, **kwargs)\n",
    "\n",
    "    def forward(self, y):\n",
    "        y = torch.tensor(y)\n",
    "        return F.one_hot(y, 10)\n",
    "\n",
    "transforms = torch.nn.Sequential(\n",
    "    ToImage(),\n",
    "    ToDtype(torch.float32, scale=True)\n",
    ")\n",
    "\n",
    "target_transforms = torch.nn.Sequential(\n",
    "    ToOneHot()\n",
    ")\n",
    "\n",
    "to_np_tensor = ToNPTensor()\n",
    "\n",
    "bs = 512\n",
    "dataset = MNIST(\"dataset\", download=True, transform=transforms, target_transform=target_transforms)\n",
    "dataloader_train = DataLoader(Subset(dataset, range(int(0.8*len(dataset)))), batch_size=bs)\n",
    "dataloader_val = DataLoader(Subset(dataset, range(int(0.8*len(dataset)), len(dataset))), batch_size=bs)"
   ]
  },
  {
   "cell_type": "code",
   "execution_count": 13,
   "metadata": {},
   "outputs": [
    {
     "name": "stdout",
     "output_type": "stream",
     "text": [
      "(1, 28, 28) (512, 10)\n",
      "-1.0 1.0\n",
      "(512, 10)\n",
      "Label:  data 24.15007571914974, grad 1.0 op *\n",
      "Number of parameters 189130\n"
     ]
    }
   ],
   "source": [
    "model = nn.Sequential(\n",
    "    nn.Conv2d(1, 16, name=\"Conv Layer 1\"),\n",
    "    nn.ReLU(),\n",
    "    nn.Conv2d(16, 32, name=\"Conv Layer 2\"),\n",
    "    nn.ReLU(),\n",
    "    nn.Flatten(),\n",
    "    nn.Linear(18432, 10, name=\"Linear Layer 3\"),\n",
    "    nn.Softmax()\n",
    ")\n",
    "\n",
    "def ce_loss_func(y_true: Tensor, y_pred: Tensor) -> Tensor:\n",
    "    m = y_true.shape[0]\n",
    "    t1 = y_true*((y_pred + 1.e-12).log())\n",
    "    return (-1.0 / m) * t1.sum()\n",
    "\n",
    "x, y = next(iter(dataloader_train))\n",
    "x = to_np_tensor(x)\n",
    "y = Tensor(y)\n",
    "print(x[0].shape, y.shape)\n",
    "print(x[0].data.min(), x[0].data.max())\n",
    "print(model(x).shape)\n",
    "loss = ce_loss_func(y, model(x))\n",
    "loss.backward()\n",
    "print(loss)\n",
    "print(\"Number of parameters\", sum(p.data.size for p in model.parameters()))\n",
    "# draw_dot(loss)"
   ]
  },
  {
   "cell_type": "code",
   "execution_count": 14,
   "metadata": {},
   "outputs": [
    {
     "data": {
      "application/vnd.jupyter.widget-view+json": {
       "model_id": "b4163da22da9417d80bad6b3eb8fb11f",
       "version_major": 2,
       "version_minor": 0
      },
      "text/plain": [
       "  0%|          | 0/100 [00:00<?, ?it/s]"
      ]
     },
     "metadata": {},
     "output_type": "display_data"
    }
   ],
   "source": [
    "epochs = 100\n",
    "lr = 0.001\n",
    "\n",
    "loss_hist = []\n",
    "acc_hist = []\n",
    "\n",
    "pbar = tqdm(range(epochs))\n",
    "for k in pbar:\n",
    "    loss_train = 0.0\n",
    "    acc_train = 0.0\n",
    "    for i, (x, y) in enumerate(dataloader_train):\n",
    "        x = to_np_tensor(x)\n",
    "        y = Tensor(y)\n",
    "\n",
    "        y_pred = model(x)\n",
    "\n",
    "        loss = ce_loss_func(y, y_pred)\n",
    "        loss.backward()\n",
    "\n",
    "        for p in model.parameters():\n",
    "            # print(p.label, np.linalg.norm(p.grad))\n",
    "            p.data -= lr*p.grad\n",
    "\n",
    "        loss_train += loss.data\n",
    "        acc_train += np.sum(y_pred.data.argmax(-1) == y.data.argmax(-1)) / y.shape[0]\n",
    "    loss_train = loss_train / (i + 1)\n",
    "    acc_train = acc_train / (i + 1)\n",
    "\n",
    "    loss_val = 0.0\n",
    "    acc_val = 0.0\n",
    "    for i, (x, y) in enumerate(dataloader_val):\n",
    "        x = to_np_tensor(x)\n",
    "        y = Tensor(y)\n",
    "\n",
    "        y_pred = model(x)\n",
    "\n",
    "        loss_val += ce_loss_func(y, y_pred).data\n",
    "        acc_val += np.sum(y_pred.data.argmax(-1) == y.data.argmax(-1)) / y.shape[0]\n",
    "\n",
    "    loss_hist.append(loss_val/(i + 1))\n",
    "    acc_hist.append(acc_val/(i + 1))\n",
    "    pbar.set_description(f\"loss train: {loss_train}, acc train: {100*acc_train} loss val: {loss_val/(i + 1)}, acc val: {100*acc_val/(i + 1)}\")"
   ]
  },
  {
   "cell_type": "code",
   "execution_count": null,
   "metadata": {},
   "outputs": [
    {
     "data": {
      "image/png": "[encoded data removed]",
      "text/plain": [
       "<Figure size 640x480 with 1 Axes>"
      ]
     },
     "metadata": {},
     "output_type": "display_data"
    },
    {
     "data": {
      "image/png": "[encoded data removed]",
      "text/plain": [
       "<Figure size 640x480 with 1 Axes>"
      ]
     },
     "metadata": {},
     "output_type": "display_data"
    }
   ],
   "source": [
    "plt.plot(loss_hist)\n",
    "plt.show()\n",
    "\n",
    "plt.plot(acc_hist)\n",
    "plt.show()"
   ]
  },
  {
   "cell_type": "code",
   "execution_count": null,
   "metadata": {},
   "outputs": [],
   "source": []
  }
 ],
 "metadata": {
  "kernelspec": {
   "display_name": "model-based",
   "language": "python",
   "name": "python3"
  },
  "language_info": {
   "codemirror_mode": {
    "name": "ipython",
    "version": 3
   },
   "file_extension": ".py",
   "mimetype": "text/x-python",
   "name": "python",
   "nbconvert_exporter": "python",
   "pygments_lexer": "ipython3",
   "version": "3.12.4"
  }
 },
 "nbformat": 4,
 "nbformat_minor": 2
}
